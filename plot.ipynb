{
 "cells": [
  {
   "cell_type": "code",
   "execution_count": 1,
   "metadata": {},
   "outputs": [],
   "source": [
    "def plot_decision_regions(X, y, classifier, test_idx=None, resolution=0.02):\n",
    "    import numpy as np\n",
    "    import matplotlib as plt\n",
    "    #マーカーとカラーマップの準備\n",
    "    markers=('s', 'x', 'o', '^', 'v')\n",
    "    colors=('red', 'blue', 'lightgreen', 'gray', 'cyan',)\n",
    "    cmap=ListedColormap(colors[:len(np.unique(y))])\n",
    "    \n",
    "    #決定領域のプロット\n",
    "    x1_min, x1_max=X[:,0].min()-1, X[:,0].max()+1\n",
    "    x2_min, x2_max=X[:,1].min()-1, X[:,1].max()+1\n",
    "    #グリッドポイントの生成\n",
    "    xx1,xx2=np.meshgrid(np.arange(x1_min, x1_max, resolution), np.arange(x2_min, x2_max, resolution))\n",
    "    #各特微量を１次元配列に変換して予測を実行\n",
    "    Z=classifier.predict(np.array([xx1.ravel(),xx2.ravel()]).T)\n",
    "    #予測結果を元のグリッドポイントのデータサイズに変換\n",
    "    Z=Z.reshape(xx1.shape)\n",
    "    #グリッドポイントの等高線のプロット\n",
    "    plt,contourf(xx1, xx2, Z, alpha=0.3, cmap=cmap)\n",
    "    #軸の範囲の設定\n",
    "    plt.xlim(xx1.min(), xx1.max())\n",
    "    plt.ylim(xx2.min(), xx2.max())\n",
    "    \n",
    "    #クラスごとにサンプルをプロット\n",
    "    for idx, cl in enumerate(np.unique(y)):\n",
    "        plt.scatter(x=X[y == cl, 0], y=X[y == cl, 1], alpha=0.8, c=colors[idx], marker=markers[idx], label=cl, edgecolor='black')\n",
    "        \n",
    "    #テストサンプルを目立たせる（点を◯表示）\n",
    "    if test_idx:\n",
    "        #全てのサンプルをプロット\n",
    "        X_test, y_test = X[test_idx, :], y[test_idx]\n",
    "        plt.scatter(X_test[:,0], X_test[:,1], c='', edgecolor='black', alpha=1.0, linewidth=1, marker='o', s=100, label='test set')"
   ]
  },
  {
   "cell_type": "code",
   "execution_count": null,
   "metadata": {},
   "outputs": [],
   "source": []
  }
 ],
 "metadata": {
  "kernelspec": {
   "display_name": "Python 3",
   "language": "python",
   "name": "python3"
  },
  "language_info": {
   "codemirror_mode": {
    "name": "ipython",
    "version": 3
   },
   "file_extension": ".py",
   "mimetype": "text/x-python",
   "name": "python",
   "nbconvert_exporter": "python",
   "pygments_lexer": "ipython3",
   "version": "3.7.3"
  }
 },
 "nbformat": 4,
 "nbformat_minor": 2
}
